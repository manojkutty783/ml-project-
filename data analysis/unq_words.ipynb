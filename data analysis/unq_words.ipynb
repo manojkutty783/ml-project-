{
 "cells": [
  {
   "cell_type": "code",
   "execution_count": 29,
   "id": "da59677d-25b9-4142-afdc-d8ebf794d265",
   "metadata": {},
   "outputs": [],
   "source": [
    "def words(file_path):\n",
    "    with open(file_path,'r') as inputt:\n",
    "     word=inputt.read()\n",
    "    word=word.split()\n",
    "    uq=set(word)\n",
    "    with open('new file.txt','w') as new:\n",
    "        new.write(' '.join(uq))\n",
    "    print('new file created')\n",
    "    "
   ]
  },
  {
   "cell_type": "code",
   "execution_count": 30,
   "id": "d9c13539-8403-42d2-acbf-1edaeeffac41",
   "metadata": {},
   "outputs": [
    {
     "name": "stdout",
     "output_type": "stream",
     "text": [
      "new file created\n"
     ]
    }
   ],
   "source": [
    "path=('untitled.txt')\n",
    "words(path)"
   ]
  },
  {
   "cell_type": "code",
   "execution_count": null,
   "id": "9b99dfe5-cfac-4652-aad8-69855d8efcf9",
   "metadata": {},
   "outputs": [],
   "source": []
  }
 ],
 "metadata": {
  "kernelspec": {
   "display_name": "Python [conda env:base] *",
   "language": "python",
   "name": "conda-base-py"
  },
  "language_info": {
   "codemirror_mode": {
    "name": "ipython",
    "version": 3
   },
   "file_extension": ".py",
   "mimetype": "text/x-python",
   "name": "python",
   "nbconvert_exporter": "python",
   "pygments_lexer": "ipython3",
   "version": "3.11.7"
  }
 },
 "nbformat": 4,
 "nbformat_minor": 5
}
