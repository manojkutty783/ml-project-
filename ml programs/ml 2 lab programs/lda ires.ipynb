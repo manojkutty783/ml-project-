{
 "cells": [
  {
   "cell_type": "code",
   "execution_count": 126,
   "id": "3af9143f-3f89-41bd-89ae-2240448d7f30",
   "metadata": {},
   "outputs": [],
   "source": [
    "import pandas as pd\n",
    "from sklearn.datasets import load_iris"
   ]
  },
  {
   "cell_type": "code",
   "execution_count": 128,
   "id": "ffdeb695-1fa9-41f1-b38e-2d84f64d3ec8",
   "metadata": {},
   "outputs": [],
   "source": [
    "data=load_iris()\n"
   ]
  },
  {
   "cell_type": "code",
   "execution_count": 130,
   "id": "f1a1f5ab-e712-4bc3-8f73-dd9306f7840e",
   "metadata": {},
   "outputs": [],
   "source": [
    "dat=pd.DataFrame(data=data.data,columns=data.feature_names)\n",
    "dat['species']=data.target_names[data.target]"
   ]
  },
  {
   "cell_type": "code",
   "execution_count": 132,
   "id": "89dbce5f-26f0-4b90-9b88-10daf0b12645",
   "metadata": {},
   "outputs": [
    {
     "data": {
      "text/html": [
       "<div>\n",
       "<style scoped>\n",
       "    .dataframe tbody tr th:only-of-type {\n",
       "        vertical-align: middle;\n",
       "    }\n",
       "\n",
       "    .dataframe tbody tr th {\n",
       "        vertical-align: top;\n",
       "    }\n",
       "\n",
       "    .dataframe thead th {\n",
       "        text-align: right;\n",
       "    }\n",
       "</style>\n",
       "<table border=\"1\" class=\"dataframe\">\n",
       "  <thead>\n",
       "    <tr style=\"text-align: right;\">\n",
       "      <th></th>\n",
       "      <th>sepal length (cm)</th>\n",
       "      <th>sepal width (cm)</th>\n",
       "      <th>petal length (cm)</th>\n",
       "      <th>petal width (cm)</th>\n",
       "      <th>species</th>\n",
       "    </tr>\n",
       "  </thead>\n",
       "  <tbody>\n",
       "    <tr>\n",
       "      <th>0</th>\n",
       "      <td>5.1</td>\n",
       "      <td>3.5</td>\n",
       "      <td>1.4</td>\n",
       "      <td>0.2</td>\n",
       "      <td>setosa</td>\n",
       "    </tr>\n",
       "    <tr>\n",
       "      <th>1</th>\n",
       "      <td>4.9</td>\n",
       "      <td>3.0</td>\n",
       "      <td>1.4</td>\n",
       "      <td>0.2</td>\n",
       "      <td>setosa</td>\n",
       "    </tr>\n",
       "    <tr>\n",
       "      <th>2</th>\n",
       "      <td>4.7</td>\n",
       "      <td>3.2</td>\n",
       "      <td>1.3</td>\n",
       "      <td>0.2</td>\n",
       "      <td>setosa</td>\n",
       "    </tr>\n",
       "    <tr>\n",
       "      <th>3</th>\n",
       "      <td>4.6</td>\n",
       "      <td>3.1</td>\n",
       "      <td>1.5</td>\n",
       "      <td>0.2</td>\n",
       "      <td>setosa</td>\n",
       "    </tr>\n",
       "    <tr>\n",
       "      <th>4</th>\n",
       "      <td>5.0</td>\n",
       "      <td>3.6</td>\n",
       "      <td>1.4</td>\n",
       "      <td>0.2</td>\n",
       "      <td>setosa</td>\n",
       "    </tr>\n",
       "  </tbody>\n",
       "</table>\n",
       "</div>"
      ],
      "text/plain": [
       "   sepal length (cm)  sepal width (cm)  petal length (cm)  petal width (cm)  \\\n",
       "0                5.1               3.5                1.4               0.2   \n",
       "1                4.9               3.0                1.4               0.2   \n",
       "2                4.7               3.2                1.3               0.2   \n",
       "3                4.6               3.1                1.5               0.2   \n",
       "4                5.0               3.6                1.4               0.2   \n",
       "\n",
       "  species  \n",
       "0  setosa  \n",
       "1  setosa  \n",
       "2  setosa  \n",
       "3  setosa  \n",
       "4  setosa  "
      ]
     },
     "execution_count": 132,
     "metadata": {},
     "output_type": "execute_result"
    }
   ],
   "source": [
    "dat.head()"
   ]
  },
  {
   "cell_type": "code",
   "execution_count": 134,
   "id": "77507991-7909-4862-ae9c-4a08bd9385ee",
   "metadata": {},
   "outputs": [],
   "source": [
    "x=dat.drop(columns='species')\n",
    "y=dat['species']"
   ]
  },
  {
   "cell_type": "code",
   "execution_count": 136,
   "id": "e7f233f7-d840-42a7-ad80-2fd2cd7c3456",
   "metadata": {},
   "outputs": [],
   "source": [
    "from sklearn.discriminant_analysis import LinearDiscriminantAnalysis as ld\n",
    "from sklearn.preprocessing import StandardScaler as ss"
   ]
  },
  {
   "cell_type": "code",
   "execution_count": 138,
   "id": "b23c9463-82de-439b-9366-44310f3d5ec7",
   "metadata": {},
   "outputs": [],
   "source": [
    "s=ss()"
   ]
  },
  {
   "cell_type": "code",
   "execution_count": 140,
   "id": "56eb6261-a4ea-4b77-a86a-a478399cad19",
   "metadata": {},
   "outputs": [],
   "source": [
    "x_s=s.fit_transform(x)"
   ]
  },
  {
   "cell_type": "code",
   "execution_count": 142,
   "id": "96f8a762-35ca-418b-89ea-4a995474d27d",
   "metadata": {},
   "outputs": [],
   "source": [
    "ld=ld(n_components=1)"
   ]
  },
  {
   "cell_type": "code",
   "execution_count": 144,
   "id": "ba8a8548-8744-4753-8fb7-e67d908ddd9c",
   "metadata": {},
   "outputs": [],
   "source": [
    "xtrain=ld.fit_transform(x,y)"
   ]
  },
  {
   "cell_type": "code",
   "execution_count": 146,
   "id": "7bae0568-de0e-4408-b001-9bd411a52851",
   "metadata": {},
   "outputs": [
    {
     "data": {
      "text/plain": [
       "<matplotlib.collections.PathCollection at 0x1b015e45850>"
      ]
     },
     "execution_count": 146,
     "metadata": {},
     "output_type": "execute_result"
    },
    {
     "data": {
      "image/png": "[encoded data removed]",
      "text/plain": [
       "<Figure size 640x480 with 1 Axes>"
      ]
     },
     "metadata": {},
     "output_type": "display_data"
    }
   ],
   "source": [
    "pt.scatter(xtrain,y,c=ytr,cmap='rainbow')\n"
   ]
  },
  {
   "cell_type": "code",
   "execution_count": null,
   "id": "d2f29603-ba19-423b-ba8a-c6db9e797c4a",
   "metadata": {},
   "outputs": [],
   "source": []
  },
  {
   "cell_type": "code",
   "execution_count": null,
   "id": "ace59314-447b-4743-932e-7a4fb0856f90",
   "metadata": {},
   "outputs": [],
   "source": []
  }
 ],
 "metadata": {
  "kernelspec": {
   "display_name": "Python [conda env:base] *",
   "language": "python",
   "name": "conda-base-py"
  },
  "language_info": {
   "codemirror_mode": {
    "name": "ipython",
    "version": 3
   },
   "file_extension": ".py",
   "mimetype": "text/x-python",
   "name": "python",
   "nbconvert_exporter": "python",
   "pygments_lexer": "ipython3",
   "version": "3.11.7"
  }
 },
 "nbformat": 4,
 "nbformat_minor": 5
}
