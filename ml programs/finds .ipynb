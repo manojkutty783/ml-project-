{
 "cells": [
  {
   "cell_type": "code",
   "execution_count": 88,
   "id": "07149585-09f0-4663-b874-77b780bc6c0c",
   "metadata": {},
   "outputs": [],
   "source": [
    "import pandas as pd\n",
    "import numpy as np"
   ]
  },
  {
   "cell_type": "code",
   "execution_count": 89,
   "id": "ae207c7a-1b26-45a5-877c-f7f0118a9c60",
   "metadata": {},
   "outputs": [],
   "source": [
    "data=pd.read_csv(r\"C:\\Users\\manoj\\Documents\\ml lab data set\\booook.csv\")"
   ]
  },
  {
   "cell_type": "code",
   "execution_count": 90,
   "id": "a8124589-225a-4d0d-b1f5-cf99e187a906",
   "metadata": {},
   "outputs": [
    {
     "name": "stdout",
     "output_type": "stream",
     "text": [
      "   Example Outdoor Team Activity Age Group Enjoys Outdoor\n",
      "0        1     Yes           Yes     Adult            Yes\n",
      "1        2     Yes            No      Teen            Yes\n",
      "2        3      No           Yes     Adult             No\n",
      "3        4     Yes           Yes      Teen            Yes\n",
      "4        5     Yes            No     Child             No\n"
     ]
    }
   ],
   "source": [
    "print(data.head())"
   ]
  },
  {
   "cell_type": "code",
   "execution_count": null,
   "id": "d3d5a5c9-67eb-40f6-a888-7dc55b059c81",
   "metadata": {},
   "outputs": [],
   "source": [
    "\n"
   ]
  },
  {
   "cell_type": "code",
   "execution_count": 91,
   "id": "e9f4094c-7c11-40ab-9ebd-1ace4d311932",
   "metadata": {},
   "outputs": [
    {
     "name": "stdout",
     "output_type": "stream",
     "text": [
      "[['Yes' 'Yes' 'Adult']\n",
      " ['Yes' 'No' 'Teen']\n",
      " ['No' 'Yes' 'Adult']\n",
      " ['Yes' 'Yes' 'Teen']\n",
      " ['Yes' 'No' 'Child']\n",
      " ['No' 'No' 'Adult']\n",
      " ['Yes' 'Yes' 'Child']\n",
      " ['Yes' 'No' 'Adult']]\n",
      "['Yes' 'Yes' 'No' 'Yes' 'No' 'No' 'Yes' 'Yes']\n"
     ]
    }
   ],
   "source": [
    "fet=np.array(data)[:,1:-1]\n",
    "print(fet)\n",
    "tr=np.array(data)[:,-1]\n",
    "print(fet)\n",
    "print(tr)"
   ]
  },
  {
   "cell_type": "code",
   "execution_count": null,
   "id": "831c3ee2-c037-4472-8cb5-5d2d33bedd12",
   "metadata": {},
   "outputs": [],
   "source": []
  },
  {
   "cell_type": "code",
   "execution_count": 93,
   "id": "7c11eb1e-162d-4133-9275-4140231f524a",
   "metadata": {},
   "outputs": [],
   "source": [
    "def find_s(att,tr):\n",
    "\n",
    "    for i ,va in enumerate(tr):\n",
    "        if va =='Yes':\n",
    "            sp_hyp=att[i].copy()\n",
    "            a=sp_hyp\n",
    "            break\n",
    "    for i ,val in enumerate(att):\n",
    "     if tr[i]=='Yes':\n",
    "        for j in range(len(sp_hyp)):\n",
    "            if val[j] != sp_hyp[j]:\n",
    "              sp_hyp[j]='?'\n",
    "            \n",
    "            else:\n",
    "                pass\n",
    "              \n",
    "                \n",
    "            \n",
    "\n",
    "    return sp_hyp,a\n",
    "\n",
    "            "
   ]
  },
  {
   "cell_type": "code",
   "execution_count": 94,
   "id": "d7f065d4-6e70-45b9-b5c9-e993843507e0",
   "metadata": {},
   "outputs": [
    {
     "name": "stdout",
     "output_type": "stream",
     "text": [
      "['Yes' '?' '?']\n"
     ]
    }
   ],
   "source": [
    "hyp,a=find_s(fet,tr)\n",
    "print(hyp)\n"
   ]
  },
  {
   "cell_type": "code",
   "execution_count": null,
   "id": "818d2ae4-1442-4f86-9a61-264926dd2618",
   "metadata": {},
   "outputs": [],
   "source": []
  },
  {
   "cell_type": "code",
   "execution_count": null,
   "id": "6e90c650-0cc2-4795-b433-4403ee30d3c5",
   "metadata": {},
   "outputs": [],
   "source": []
  }
 ],
 "metadata": {
  "kernelspec": {
   "display_name": "Python 3 (ipykernel)",
   "language": "python",
   "name": "python3"
  },
  "language_info": {
   "codemirror_mode": {
    "name": "ipython",
    "version": 3
   },
   "file_extension": ".py",
   "mimetype": "text/x-python",
   "name": "python",
   "nbconvert_exporter": "python",
   "pygments_lexer": "ipython3",
   "version": "3.11.7"
  }
 },
 "nbformat": 4,
 "nbformat_minor": 5
}
