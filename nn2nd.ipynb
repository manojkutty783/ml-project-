{
 "cells": [
  {
   "cell_type": "code",
   "execution_count": 6,
   "id": "5966b345-7cd1-47fb-916a-6b0dbf707332",
   "metadata": {},
   "outputs": [],
   "source": [
    "import tensorflow as t\n",
    "from tensorflow import keras "
   ]
  },
  {
   "cell_type": "code",
   "execution_count": null,
   "id": "9b665162-7703-4bfe-8240-689f9b7ae10e",
   "metadata": {},
   "outputs": [],
   "source": []
  },
  {
   "cell_type": "code",
   "execution_count": 7,
   "id": "2a84156a-b1d9-49e8-8475-26f70b475a85",
   "metadata": {},
   "outputs": [],
   "source": [
    "(xtrain, ytrain),(xtest, ytest)=keras.datasets.mnist.load_data()"
   ]
  },
  {
   "cell_type": "code",
   "execution_count": 8,
   "id": "840ece3b-4890-459e-8dd4-b14d51f0e7f1",
   "metadata": {},
   "outputs": [],
   "source": [
    "xtrain=xtrain/255\n",
    "xtest=xtest/255"
   ]
  },
  {
   "cell_type": "code",
   "execution_count": 9,
   "id": "645c1389-fd4c-4115-9a56-cc3d5003184e",
   "metadata": {},
   "outputs": [],
   "source": [
    "xtrain=xtrain.reshape(len(xtrain),28*28)\n",
    "xtest=xtest.reshape(len(xtest),28*28)"
   ]
  },
  {
   "cell_type": "code",
   "execution_count": 10,
   "id": "d7f6338f-aef4-40a7-b91e-2df4db3de82b",
   "metadata": {},
   "outputs": [
    {
     "name": "stdout",
     "output_type": "stream",
     "text": [
      "Epoch 1/6\n",
      "\u001b[1m1875/1875\u001b[0m \u001b[32m━━━━━━━━━━━━━━━━━━━━\u001b[0m\u001b[37m\u001b[0m \u001b[1m9s\u001b[0m 4ms/step - accuracy: 0.8731 - loss: 0.4363\n",
      "Epoch 2/6\n",
      "\u001b[1m1875/1875\u001b[0m \u001b[32m━━━━━━━━━━━━━━━━━━━━\u001b[0m\u001b[37m\u001b[0m \u001b[1m5s\u001b[0m 3ms/step - accuracy: 0.9625 - loss: 0.1275\n",
      "Epoch 3/6\n",
      "\u001b[1m1875/1875\u001b[0m \u001b[32m━━━━━━━━━━━━━━━━━━━━\u001b[0m\u001b[37m\u001b[0m \u001b[1m7s\u001b[0m 4ms/step - accuracy: 0.9752 - loss: 0.0840\n",
      "Epoch 4/6\n",
      "\u001b[1m1875/1875\u001b[0m \u001b[32m━━━━━━━━━━━━━━━━━━━━\u001b[0m\u001b[37m\u001b[0m \u001b[1m7s\u001b[0m 3ms/step - accuracy: 0.9815 - loss: 0.0615\n",
      "Epoch 5/6\n",
      "\u001b[1m1875/1875\u001b[0m \u001b[32m━━━━━━━━━━━━━━━━━━━━\u001b[0m\u001b[37m\u001b[0m \u001b[1m6s\u001b[0m 3ms/step - accuracy: 0.9864 - loss: 0.0466\n",
      "Epoch 6/6\n",
      "\u001b[1m1875/1875\u001b[0m \u001b[32m━━━━━━━━━━━━━━━━━━━━\u001b[0m\u001b[37m\u001b[0m \u001b[1m7s\u001b[0m 4ms/step - accuracy: 0.9898 - loss: 0.0350\n"
     ]
    },
    {
     "data": {
      "text/plain": [
       "<keras.src.callbacks.history.History at 0x1ac98e09810>"
      ]
     },
     "execution_count": 10,
     "metadata": {},
     "output_type": "execute_result"
    }
   ],
   "source": [
    "m=keras.Sequential([\n",
    "    keras.layers.Dense(120,input_shape=(784,),activation='relu'),\n",
    "    keras.layers.Dense(10,activation='sigmoid')\n",
    "])\n",
    "m.compile(\n",
    "    optimizer='adam',\n",
    "    loss='sparse_categorical_crossentropy',\n",
    "    metrics=['accuracy'])\n",
    "m.fit(xtrain,ytrain,epochs=6)"
   ]
  },
  {
   "cell_type": "code",
   "execution_count": 11,
   "id": "6fe002ca-8cc4-4b36-9909-688cba43d265",
   "metadata": {},
   "outputs": [
    {
     "name": "stdout",
     "output_type": "stream",
     "text": [
      "\u001b[1m313/313\u001b[0m \u001b[32m━━━━━━━━━━━━━━━━━━━━\u001b[0m\u001b[37m\u001b[0m \u001b[1m1s\u001b[0m 1ms/step - accuracy: 0.9697 - loss: 0.1010\n"
     ]
    },
    {
     "data": {
      "text/plain": [
       "[0.08523058146238327, 0.9728999733924866]"
      ]
     },
     "execution_count": 11,
     "metadata": {},
     "output_type": "execute_result"
    }
   ],
   "source": [
    "m.evaluate(xtest,ytest)"
   ]
  },
  {
   "cell_type": "code",
   "execution_count": 12,
   "id": "d906a558-3b0b-4c02-85a4-6c6a0c8abde3",
   "metadata": {},
   "outputs": [
    {
     "name": "stdout",
     "output_type": "stream",
     "text": [
      "\u001b[1m313/313\u001b[0m \u001b[32m━━━━━━━━━━━━━━━━━━━━\u001b[0m\u001b[37m\u001b[0m \u001b[1m0s\u001b[0m 1ms/step\n"
     ]
    }
   ],
   "source": [
    "p=m.predict(xtest)"
   ]
  },
  {
   "cell_type": "code",
   "execution_count": null,
   "id": "ab889d47-a1ba-4d7d-8603-85fb80b9ed6d",
   "metadata": {},
   "outputs": [],
   "source": []
  }
 ],
 "metadata": {
  "kernelspec": {
   "display_name": "Python [conda env:base] *",
   "language": "python",
   "name": "conda-base-py"
  },
  "language_info": {
   "codemirror_mode": {
    "name": "ipython",
    "version": 3
   },
   "file_extension": ".py",
   "mimetype": "text/x-python",
   "name": "python",
   "nbconvert_exporter": "python",
   "pygments_lexer": "ipython3",
   "version": "3.11.7"
  }
 },
 "nbformat": 4,
 "nbformat_minor": 5
}
